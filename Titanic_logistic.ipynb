{
 "cells": [
  {
   "cell_type": "markdown",
   "id": "2a9b7260",
   "metadata": {},
   "source": [
    "Kaggle Data set TITANIC.\n",
    "\n",
    "Scope of the analysis: we want you to use the Titanic passenger data (name, age, price of ticket, etc) to try to predict who will survive and who will die"
   ]
  },
  {
   "cell_type": "code",
   "execution_count": null,
   "id": "e4ad96c2",
   "metadata": {},
   "outputs": [],
   "source": [
    "# import the library necessary to analyse the data\n",
    "import pandas as pd\n",
    "import numpy as np\n",
    "import matplotlib.pyplot as plt\n",
    "import seaborn as sns"
   ]
  }
 ],
 "metadata": {
  "kernelspec": {
   "display_name": ".venv",
   "language": "python",
   "name": "python3"
  },
  "language_info": {
   "name": "python",
   "version": "3.11.3"
  }
 },
 "nbformat": 4,
 "nbformat_minor": 5
}
