{
 "cells": [
  {
   "cell_type": "markdown",
   "id": "a5f6d01f",
   "metadata": {},
   "source": [
    "# Kaggle Titanic Random Forest model"
   ]
  },
  {
   "cell_type": "markdown",
   "id": "aa879f65",
   "metadata": {},
   "source": [
    "In this notebook, I will abroach the same problem using the Random Forest Model"
   ]
  }
 ],
 "metadata": {
  "language_info": {
   "name": "python"
  }
 },
 "nbformat": 4,
 "nbformat_minor": 5
}
